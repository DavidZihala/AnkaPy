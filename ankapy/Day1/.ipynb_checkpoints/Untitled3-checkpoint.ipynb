{
 "cells": [
  {
   "cell_type": "code",
   "execution_count": 7,
   "metadata": {},
   "outputs": [
    {
     "name": "stdout",
     "output_type": "stream",
     "text": [
      "Veronika 8\n",
      "Iveta 5\n",
      "Veronika 8\n",
      "Filip 5\n",
      "Kuba 4\n"
     ]
    }
   ],
   "source": [
    "boys = ['Filip', 'Kuba']\n",
    "girls = ['Veronika', 'Iveta', 'Veronika']\n",
    "all_data = [boys, girls]\n",
    "\n",
    "\"\"\"\n",
    "for name in boys:\n",
    "    print(name, len(name))\n",
    "    \n",
    "for name in girls:\n",
    "    print(name, len(name))\n",
    "\"\"\"\n",
    "\n",
    "def name_len(my_list):\n",
    "    for name in my_list:\n",
    "        print(name, len(name))\n",
    "\n",
    "name_len(girls)\n",
    "name_len(boys)"
   ]
  },
  {
   "cell_type": "code",
   "execution_count": null,
   "metadata": {},
   "outputs": [],
   "source": []
  }
 ],
 "metadata": {
  "kernelspec": {
   "display_name": "Python 3",
   "language": "python",
   "name": "python3"
  },
  "language_info": {
   "codemirror_mode": {
    "name": "ipython",
    "version": 3
   },
   "file_extension": ".py",
   "mimetype": "text/x-python",
   "name": "python",
   "nbconvert_exporter": "python",
   "pygments_lexer": "ipython3",
   "version": "3.6.3"
  }
 },
 "nbformat": 4,
 "nbformat_minor": 2
}

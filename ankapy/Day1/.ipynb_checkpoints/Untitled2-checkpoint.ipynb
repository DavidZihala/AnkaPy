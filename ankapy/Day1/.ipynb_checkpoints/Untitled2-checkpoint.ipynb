{
 "cells": [
  {
   "cell_type": "code",
   "execution_count": 7,
   "metadata": {},
   "outputs": [],
   "source": [
    "outfile = open('test_out.txt', 'w')\n",
    "for name in [\"Lucie\", \"Tomas\", \"Kika\"]:\n",
    "    outfile.write(name + '\\n')\n",
    "outfile.close()"
   ]
  },
  {
   "cell_type": "code",
   "execution_count": 9,
   "metadata": {},
   "outputs": [],
   "source": [
    "with open('test_out2', 'w') as my_file:\n",
    "    for name in [\"Lucie\", \"Tomas\", \"Kika\"]:\n",
    "        my_file.write(name + '\\n')"
   ]
  },
  {
   "cell_type": "code",
   "execution_count": 4,
   "metadata": {},
   "outputs": [
    {
     "name": "stdout",
     "output_type": "stream",
     "text": [
      ">NP_001086022.1 RAB20, member RAS oncogene family L homeolog [Xenopus laevis]\n",
      "\n",
      ">XP_005792157.1 Rab20, rab family GTPase [Emiliania huxleyi CCMP1516]\n",
      "\n",
      ">NP_035357.1 ras-related protein Rab-20 [Mus musculus]\n",
      "\n",
      ">NP_060287.1 ras-related protein Rab-20 [Homo sapiens]\n",
      "\n",
      ">NP_001017295.1 ras-related protein Rab-20 [Xenopus tropicalis]\n",
      "\n",
      ">NP_001086022.1 RAB20, member RAS oncogene family L homeolog [Xenopus laevis]\n",
      "\n",
      ">XP_005792157.1 Rab20, rab family GTPase [Emiliania huxleyi CCMP1516]\n",
      "\n",
      ">NP_035357.1 ras-related protein Rab-20 [Mus musculus]\n",
      "\n",
      ">NP_060287.1 ras-related protein Rab-20 [Homo sapiens]\n",
      "\n",
      ">NP_001017295.1 ras-related protein Rab-20 [Xenopus tropicalis]\n",
      "\n"
     ]
    }
   ],
   "source": [
    "infile = open('rab20.fasta')\n",
    "for line in infile:\n",
    "    if '>' in line:\n",
    "        print(line)\n",
    "\n",
    "infile = open('rab20.fasta')\n",
    "for line in infile:\n",
    "    if '>' in line:\n",
    "        print(line)"
   ]
  },
  {
   "cell_type": "code",
   "execution_count": 2,
   "metadata": {},
   "outputs": [
    {
     "name": "stdout",
     "output_type": "stream",
     "text": [
      ">NP_001086022.1 RAB20, member RAS oncogene family L homeolog [Xenopus laevis]\n",
      "\n",
      ">XP_005792157.1 Rab20, rab family GTPase [Emiliania huxleyi CCMP1516]\n",
      "\n",
      ">NP_035357.1 ras-related protein Rab-20 [Mus musculus]\n",
      "\n",
      ">NP_060287.1 ras-related protein Rab-20 [Homo sapiens]\n",
      "\n",
      ">NP_001017295.1 ras-related protein Rab-20 [Xenopus tropicalis]\n",
      "\n"
     ]
    }
   ],
   "source": [
    "for line in open('rab20.fasta'):\n",
    "    if '>' in line:\n",
    "        print(line)"
   ]
  },
  {
   "cell_type": "code",
   "execution_count": null,
   "metadata": {},
   "outputs": [],
   "source": []
  }
 ],
 "metadata": {
  "kernelspec": {
   "display_name": "Python 3",
   "language": "python",
   "name": "python3"
  },
  "language_info": {
   "codemirror_mode": {
    "name": "ipython",
    "version": 3
   },
   "file_extension": ".py",
   "mimetype": "text/x-python",
   "name": "python",
   "nbconvert_exporter": "python",
   "pygments_lexer": "ipython3",
   "version": "3.6.3"
  }
 },
 "nbformat": 4,
 "nbformat_minor": 2
}

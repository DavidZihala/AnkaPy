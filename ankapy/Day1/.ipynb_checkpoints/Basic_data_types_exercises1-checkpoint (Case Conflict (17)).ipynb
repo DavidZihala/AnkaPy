{
 "cells": [
  {
   "cell_type": "markdown",
   "metadata": {},
   "source": [
    "# String"
   ]
  },
  {
   "cell_type": "markdown",
   "metadata": {},
   "source": [
    "**1: Assign partial human insulin sequence below to the variable insulin(Přiřaď níže uvedenou sekvence k proměnné jménem insulin):**\n",
    "**'MALWMRLLPLLALLALWGPDPAAAFVNQHLCGSHLVEALYLVCGERGFFYTPKTRREAEDLQVGQVELGGGPGAGSLQPLA'**"
   ]
  },
  {
   "cell_type": "markdown",
   "metadata": {},
   "source": [
    "**2: How long is this partial sequence?(Jak je tato sekvence dlouhá?)**"
   ]
  },
  {
   "cell_type": "markdown",
   "metadata": {},
   "source": [
    "**3: How many Leucines are in this sequence?(Kolik je v této sekvencí Leucinů?)**"
   ]
  },
  {
   "cell_type": "markdown",
   "metadata": {},
   "source": [
    "**4: What is the position of 'PAAAF' in insulin?(Jaká je pozice 'PAAAF' v insulinu?)**"
   ]
  },
  {
   "cell_type": "markdown",
   "metadata": {},
   "source": [
    "**5: Is 'LLLL' sequence in insulin?(Můžeme v insulinu nalézt sekvenci 'LLLL'?) **"
   ]
  },
  {
   "cell_type": "markdown",
   "metadata": {},
   "source": [
    "**6: Print first amino acid from insulin (Vypište první aminokyselinu z insulinu)**"
   ]
  },
  {
   "cell_type": "markdown",
   "metadata": {},
   "source": [
    "**7: Print first six amino acids from insulin (Vypište prvních 6 aminokyseliny z insulinu)**"
   ]
  },
  {
   "cell_type": "markdown",
   "metadata": {},
   "source": [
    "**8: Print last amino acid from insulin (Vypište poslední aminokyselinu z insulinu)**"
   ]
  },
  {
   "cell_type": "markdown",
   "metadata": {},
   "source": [
    "**9: Replace all Leucines with 'X' (Nahraďte všechny leuciny za 'X')**"
   ]
  },
  {
   "cell_type": "markdown",
   "metadata": {},
   "source": [
    "**10: Make insulin lowercase (převeďte insulin do lowercase)**"
   ]
  },
  {
   "cell_type": "markdown",
   "metadata": {},
   "source": [
    "# List"
   ]
  },
  {
   "cell_type": "markdown",
   "metadata": {},
   "source": [
    "**1: Make a list named ncbi_list from  NCBI numbers: NP_001191615.1, NP_571131.1, XP_014388588.1, XP_011213888.1 (Vytvořte list z výše uvedených NCBI numbers)**"
   ]
  },
  {
   "cell_type": "markdown",
   "metadata": {},
   "source": [
    "**2: How long is our list? (Please let Python to count it :D ); (Jak je tento list dlouhý?\n",
    ")**"
   ]
  },
  {
   "cell_type": "markdown",
   "metadata": {},
   "source": [
    "**3: Is NP_571231.1 in ncbi_list ? (Nachází se **"
   ]
  },
  {
   "cell_type": "markdown",
   "metadata": {},
   "source": [
    "**4: Print first item from ncbi_list**"
   ]
  },
  {
   "cell_type": "markdown",
   "metadata": {},
   "source": [
    "** 5: Add 'NP_571131.1' to ncbi_list and print ncbi_list. **"
   ]
  },
  {
   "cell_type": "markdown",
   "metadata": {},
   "source": [
    "# Set"
   ]
  },
  {
   "cell_type": "markdown",
   "metadata": {},
   "source": [
    "**1: Prepare set named ncbi_set from NCBI numbers:  NP_001191615.1, NP_571131.1, NP_001191615.1, XP_011213888.1, NP_001191615.1 **"
   ]
  },
  {
   "cell_type": "markdown",
   "metadata": {},
   "source": [
    "**2: How long is this set (and think about result)?**"
   ]
  },
  {
   "cell_type": "markdown",
   "metadata": {},
   "source": [
    "**3: Prepare a list named ncbi_ls from NP_001191615.1, NP_571131.1, NP_001191615.1, XP_011213888.1, NP_001191615.1 and then make a set named ncbi_set from that list.**\n"
   ]
  },
  {
   "cell_type": "markdown",
   "metadata": {},
   "source": [
    "**4: Add 'XP_004317908.1' to ncbi_set. **"
   ]
  },
  {
   "cell_type": "markdown",
   "metadata": {},
   "source": [
    "# Dictionary"
   ]
  },
  {
   "cell_type": "markdown",
   "metadata": {},
   "source": [
    "**1: Prepare a dictionary codon_dict from few codons and corresponding amino acids: TGG: W, ATG: M, GAT: D, GAC: D** "
   ]
  },
  {
   "cell_type": "markdown",
   "metadata": {},
   "source": [
    "**2: How big is codon_dict ?**"
   ]
  },
  {
   "cell_type": "markdown",
   "metadata": {},
   "source": [
    "**3: What 'GAT' codes?**"
   ]
  },
  {
   "cell_type": "markdown",
   "metadata": {},
   "source": [
    "**4: Add one stop codon to codon_dict with value: '*'. **"
   ]
  },
  {
   "cell_type": "markdown",
   "metadata": {},
   "source": [
    "**5: Change value of your stop codon to 'Q'.**"
   ]
  },
  {
   "cell_type": "markdown",
   "metadata": {},
   "source": [
    "**6: Check if your stop codon is equal to Q (use ==).**"
   ]
  }
 ],
 "metadata": {
  "kernelspec": {
   "display_name": "Python 3",
   "language": "python",
   "name": "python3"
  },
  "language_info": {
   "codemirror_mode": {
    "name": "ipython",
    "version": 3
   },
   "file_extension": ".py",
   "mimetype": "text/x-python",
   "name": "python",
   "nbconvert_exporter": "python",
   "pygments_lexer": "ipython3",
   "version": "3.6.0"
  }
 },
 "nbformat": 4,
 "nbformat_minor": 2
}

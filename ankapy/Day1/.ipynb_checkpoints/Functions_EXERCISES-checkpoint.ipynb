{
 "cells": [
  {
   "cell_type": "markdown",
   "metadata": {},
   "source": [
    "**1: Fix following code (Opravte níže uvedený kód)**"
   ]
  },
  {
   "cell_type": "code",
   "execution_count": null,
   "metadata": {
    "collapsed": true
   },
   "outputs": [],
   "source": [
    "def function_name:\n",
    "    print(\"Ahoj\")"
   ]
  },
  {
   "cell_type": "code",
   "execution_count": null,
   "metadata": {
    "collapsed": true
   },
   "outputs": [],
   "source": [
    "def print_input(i):\n",
    "    print(x)"
   ]
  },
  {
   "cell_type": "markdown",
   "metadata": {},
   "source": [
    "**2: Prepare basic function for multiplying input by 5 (Připravte jednoduchou funkci, které násobí input číslem 5)**"
   ]
  },
  {
   "cell_type": "markdown",
   "metadata": {},
   "source": [
    "**3: Prepare function for GC content counting and test it. (Připravte a otestujte funkci, která zjišťuje GC content dané sekvence)**"
   ]
  },
  {
   "cell_type": "markdown",
   "metadata": {},
   "source": [
    "**4: Prepare function for for cutting DNA sequence into codons. Return list of them.**"
   ]
  },
  {
   "cell_type": "markdown",
   "metadata": {},
   "source": [
    "**5: Prepare function which will translate DNA to protein. You can use partial code below. (Připravte funkci, která přeloží DNA do proteinu. Můžete použít kus kódu, který je uveden níže.)**"
   ]
  },
  {
   "cell_type": "code",
   "execution_count": null,
   "metadata": {
    "collapsed": true
   },
   "outputs": [],
   "source": [
    "def translation(dna_seq):\n",
    "    translation_table = {\"TTT\": \"F\", \"TTC\": \"F\", \"TTA\": \"L\" , \"TTG\": \"L\",\n",
    "                    \"TCT\": \"S\", \"TCC\": \"S\" , \"TCA\": \"S\" , \"TCG\": \"S\",\n",
    "                    \"TAT\": \"Y\" , \"TAC\": \"Y\" , \"TAA\": \"*\" , \"TAG\": \"*\",\n",
    "                    \"TGT\": \"C\" , \"TGC\": \"C\" , \"TGA\": \"*\" , \"TGG\": \"W\", \n",
    "                    \"CTT\": \"L\" , \"CTC\": \"L\" , \"CTA\": \"L\" , \"CTG\": \"L\",\n",
    "                    \"CCT\": \"P\" , \"CCC\": \"P\" , \"CCA\": \"P\" , \"CCG\": \"P\",\n",
    "                    \"CAT\": \"H\" , \"CAC\": \"H\" , \"CAA\": \"Q\" , \"CAG\": \"Q\",\n",
    "                    \"CGT\": \"R\" , \"CGC\": \"R\" , \"CGA\": \"R\" , \"CGG\": \"R\",\n",
    "                    \"ATT\": \"I\" , \"ATC\": \"I\" , \"ATA\": \"I\" , \"ATG\": \"M\",\n",
    "                    \"ACT\": \"T\" , \"ACC\": \"T\" , \"ACA\": \"T\" , \"ACG\": \"T\",\n",
    "                    \"AAT\": \"N\" , \"AAC\": \"N\" , \"AAA\": \"K\" , \"AAG\": \"K\",\n",
    "                    \"AGT\": \"S\" , \"AGC\": \"S\" , \"AGA\": \"R\" , \"AGG\": \"R\",\n",
    "                    \"GTT\": \"V\" , \"GTC\": \"V\" , \"GTA\": \"V\" , \"GTG\": \"V\",\n",
    "                    \"GCT\": \"A\" , \"GCC\": \"A\" , \"GCA\": \"A\" , \"GCG\": \"A\",\n",
    "                    \"GAT\": \"D\" , \"GAC\": \"D\" , \"GAA\": \"E\" , \"GAG\": \"E\",\n",
    "                    \"GGT\": \"G\" , \"GGC\": \"G\" , \"GGA\": \"G\" , \"GGG\": \"G\"}"
   ]
  },
  {
   "cell_type": "markdown",
   "metadata": {},
   "source": [
    "**6: Prepare function which read fasta_file as input and return list of NCBI_numbers. Use rab20.fasta file to try it. (Připravte funkci, která načte fasta_file jako input a vrátí list NCBI_numbers. Vyzkoušejte tuto funkci na souboru rab20.fasta)**"
   ]
  }
 ],
 "metadata": {
  "kernelspec": {
   "display_name": "Python 3",
   "language": "python",
   "name": "python3"
  },
  "language_info": {
   "codemirror_mode": {
    "name": "ipython",
    "version": 3
   },
   "file_extension": ".py",
   "mimetype": "text/x-python",
   "name": "python",
   "nbconvert_exporter": "python",
   "pygments_lexer": "ipython3",
   "version": "3.6.0"
  }
 },
 "nbformat": 4,
 "nbformat_minor": 2
}
